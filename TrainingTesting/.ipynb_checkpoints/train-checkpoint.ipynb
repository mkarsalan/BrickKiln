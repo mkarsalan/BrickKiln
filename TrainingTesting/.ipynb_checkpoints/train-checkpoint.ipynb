{
 "cells": [
  {
   "cell_type": "code",
   "execution_count": 1,
   "metadata": {
    "ExecuteTime": {
     "end_time": "2018-02-11T20:17:45.753843Z",
     "start_time": "2018-02-11T20:16:53.081608Z"
    }
   },
   "outputs": [
    {
     "name": "stderr",
     "output_type": "stream",
     "text": [
      "/Users/arsalan/anaconda2/lib/python2.7/site-packages/h5py/__init__.py:36: FutureWarning: Conversion of the second argument of issubdtype from `float` to `np.floating` is deprecated. In future, it will be treated as `np.float64 == np.dtype(float).type`.\n",
      "  from ._conv import register_converters as _register_converters\n",
      "Using TensorFlow backend.\n"
     ]
    }
   ],
   "source": [
    "from __future__ import division\n",
    "import matplotlib.pyplot as plt\n",
    "%matplotlib inline\n",
    "\n",
    "import pandas as pd\n",
    "from sklearn.model_selection import train_test_split\n",
    "from sklearn.metrics import confusion_matrix\n",
    "import cv2\n",
    "from random import shuffle\n",
    "import random\n",
    "import glob\n",
    "from skimage.transform import resize\n",
    "#from PIL import Image\n",
    "import os\n",
    "from model import *\n",
    "# from keras.models import Model\n",
    "# from keras.layers import Input, Dense\n",
    "# from keras.models import Sequential\n",
    "# from keras.layers import Dense, Dropout, Activation\n",
    "# from keras.optimizers import SGD\n",
    "# from keras.utils import np_utils\n",
    "# from keras.layers import Input, Dense, Conv2D, MaxPooling2D, AveragePooling2D, ZeroPadding2D, Flatten, Activation, add\n",
    "# from keras.optimizers import SGD\n",
    "# from keras.layers.normalization import BatchNormalization\n",
    "# from keras.models import Model\n",
    "# from keras import initializers\n",
    "# from keras.engine import Layer, InputSpec\n",
    "# from keras import backend as K\n",
    "# import keras\n",
    "# from resnet152 import ResNet152\n",
    "from keras.preprocessing import image\n",
    "# from keras.applications.imagenet_utils import preprocess_input, decode_prediction\n",
    "from keras.utils import to_categorical\n",
    "import numpy as np\n",
    "\n",
    "\n",
    "from collections import defaultdict\n",
    "import itertools\n",
    "from tqdm import tqdm\n",
    "import time\n",
    "import shutil\n"
   ]
  },
  {
   "cell_type": "code",
   "execution_count": 9,
   "metadata": {
    "ExecuteTime": {
     "end_time": "2018-02-12T09:56:34.324631Z",
     "start_time": "2018-02-12T09:56:34.321673Z"
    }
   },
   "outputs": [],
   "source": [
    "num_classes = 10"
   ]
  },
  {
   "cell_type": "code",
   "execution_count": 3,
   "metadata": {
    "ExecuteTime": {
     "end_time": "2018-02-12T09:56:38.586840Z",
     "start_time": "2018-02-12T09:56:38.459036Z"
    },
    "code_folding": [
     0,
     36,
     55
    ],
    "collapsed": true
   },
   "outputs": [],
   "source": [
    "def load_dataset(dataset_path):\n",
    "    folders = os.listdir(dataset_path)\n",
    "    X = []\n",
    "    y = []\n",
    "    image_size = (256, 256)\n",
    "    for i, folder in enumerate(folders):\n",
    "        paths = glob.glob(os.path.join(dataset_path, folder+'/*[(.png)(.jpg)]'))\n",
    "        label = np.ones(len(paths), dtype=np.int8) * i\n",
    "        \n",
    "        X += paths\n",
    "        if (len(y)<1):\n",
    "            y = label\n",
    "        else:\n",
    "            y = np.concatenate( (y, label), axis=0)\n",
    "    \n",
    "    images = np.array([cv2.imread(image_name) for image_name in X])    \n",
    "    return images, to_categorical(y, num_classes)\n",
    "\n",
    "def load_dataset_finetune(dataset_path):\n",
    "    paths = glob.glob(os.path.join(dataset_path + '/*.png'))\n",
    "    # 3 is for houses, 14 is for orchards\n",
    "    label = np.ones(len(paths), dtype=np.int8) * 14\n",
    "#     label = np.ones(len(paths), dtype=np.int8) * 3\n",
    "    \n",
    "    images = np.array([cv2.imread(image_name) for image_name in paths])    \n",
    "    return images, to_categorical(label, num_classes)\n",
    "\n",
    "def batch_generator(data_X, data_y, batch_size):\n",
    "    indexes = np.array(range(len(data_y)))\n",
    "    n = len(indexes)\n",
    "    while True:\n",
    "        batch_start = 0\n",
    "        batch_end = batch_size\n",
    "        np.random.shuffle(indexes)\n",
    "        while batch_start < n:\n",
    "            index = []\n",
    "            batch_y = []\n",
    "            y = []\n",
    "            index = indexes[batch_start:batch_end]\n",
    "            batch_x = np.array([data_X[i] for i in index])\n",
    "            batch_y = np.array([data_y[i] for i in index])\n",
    "            yield batch_x, batch_y\n",
    "            batch_start += batch_size   \n",
    "            batch_end += batch_size\n",
    "\n",
    "\n",
    "def plot_confusion_matrix(cm, classes, ylabel, xlabel,\n",
    "                          cmap=plt.cm.Blues):\n",
    "\n",
    "    plt.imshow(cm, interpolation='nearest', cmap=cmap)\n",
    "    plt.colorbar()\n",
    "    plt.grid()\n",
    "    plt.title('Transitions from {} to {}'.format(ylabel, xlabel))\n",
    "    tick_marks = np.arange(len(classes))\n",
    "    plt.xticks(tick_marks, classes, rotation=45)\n",
    "    plt.yticks(tick_marks, classes)\n",
    "    plt.tight_layout()\n",
    "    plt.ylabel(ylabel)\n",
    "    plt.xlabel(xlabel)"
   ]
  },
  {
   "cell_type": "code",
   "execution_count": 25,
   "metadata": {},
   "outputs": [],
   "source": [
    "# model_name = 'resNet152'\n",
    "# dataset_path = '/media/waseem/3D0A87CA7D9EC477/M.Bhimra/mohbat_resnet/FINAL DATASET/dataset/houses'\n",
    "model_name = 'resNet152_retrain_less'\n",
    "dataset_path = '/media/cvlab/5C08FA4008FA192A/M.Bhimra/transfer_data/FINAL DATASET/dataset/train'"
   ]
  },
  {
   "cell_type": "code",
   "execution_count": 5,
   "metadata": {
    "ExecuteTime": {
     "end_time": "2018-02-12T10:30:03.675244Z",
     "start_time": "2018-02-12T10:30:00.020199Z"
    },
    "scrolled": true
   },
   "outputs": [
    {
     "name": "stdout",
     "output_type": "stream",
     "text": [
      "('Size of dataset:', 6982)\n",
      "(6982, 256, 256, 3)\n"
     ]
    }
   ],
   "source": [
    "X, y = load_dataset(dataset_path)\n",
    "print ('Size of dataset:', len(y))\n",
    "print(X.shape)\n",
    "X_train, X_test, y_train, y_test = train_test_split(X, y, test_size=0.2)"
   ]
  },
  {
   "cell_type": "markdown",
   "metadata": {},
   "source": [
    "Display dataset stats"
   ]
  },
  {
   "cell_type": "code",
   "execution_count": 5,
   "metadata": {},
   "outputs": [
    {
     "name": "stdout",
     "output_type": "stream",
     "text": [
      "(0, 'blackfarms', 718)\n",
      "(1, 'densetrees', 700)\n",
      "(2, 'farms', 699)\n",
      "(3, 'grass', 699)\n",
      "(4, 'ground', 694)\n",
      "(5, 'houses', 703)\n",
      "(6, 'kiln', 694)\n",
      "(7, 'orchard', 693)\n",
      "(8, 'parking', 682)\n",
      "(9, 'roads', 715)\n"
     ]
    },
    {
     "data": {
      "image/png": "[encoded data removed]",
      "text/plain": [
       "<matplotlib.figure.Figure at 0x7f56c1a6c450>"
      ]
     },
     "metadata": {},
     "output_type": "display_data"
    }
   ],
   "source": [
    "folders = os.listdir(dataset_path)\n",
    "names, counts = [], []\n",
    "for i, folder in enumerate(folders):\n",
    "    dir_path = os.path.join(dataset_path, folder)\n",
    "    images = os.listdir(dir_path)\n",
    "    names.append(folder)\n",
    "    counts.append(len(images))\n",
    "    print(i, folder, len(images))\n",
    "df = pd.DataFrame(data={'Name': names, 'Count': counts})\n",
    "ax = df.plot(kind='bar', xticks=counts, grid=True, legend=False, figsize=(16,6))\n",
    "ax.set_xlabel('Classes', fontsize=12)\n",
    "ax.set_ylabel('Count', fontsize=12)\n",
    "plt.xticks(np.arange(len(names)), names, rotation=45, fontsize=15)\n",
    "for i, v in enumerate(counts):\n",
    "    ax.text(i-.18, v+15, str(v), color='blue', fontweight='bold')\n",
    "plt.show()"
   ]
  },
  {
   "cell_type": "code",
   "execution_count": 6,
   "metadata": {
    "ExecuteTime": {
     "end_time": "2018-02-12T10:30:09.910515Z",
     "start_time": "2018-02-12T10:30:09.897701Z"
    },
    "collapsed": true
   },
   "outputs": [],
   "source": [
    "batch_size = 256\n",
    "train_gen = batch_generator(X_train, y_train, batch_size)\n",
    "test_gen = batch_generator(X_test, y_test, batch_size)"
   ]
  },
  {
   "cell_type": "code",
   "execution_count": 10,
   "metadata": {
    "ExecuteTime": {
     "end_time": "2018-02-12T10:30:19.400534Z",
     "start_time": "2018-02-12T10:30:11.306984Z"
    }
   },
   "outputs": [
    {
     "ename": "NameError",
     "evalue": "name 'model_name' is not defined",
     "output_type": "error",
     "traceback": [
      "\u001b[0;31m---------------------------------------------------------------------------\u001b[0m",
      "\u001b[0;31mNameError\u001b[0m                                 Traceback (most recent call last)",
      "\u001b[0;32m<ipython-input-10-767bfddc72a7>\u001b[0m in \u001b[0;36m<module>\u001b[0;34m()\u001b[0m\n\u001b[1;32m      3\u001b[0m \u001b[0;31m# The '-1' is because we add a new class for finetuning\u001b[0m\u001b[0;34m\u001b[0m\u001b[0;34m\u001b[0m\u001b[0m\n\u001b[1;32m      4\u001b[0m \u001b[0mmodel\u001b[0m \u001b[0;34m=\u001b[0m \u001b[0mresNet\u001b[0m\u001b[0;34m(\u001b[0m\u001b[0minput_shape\u001b[0m\u001b[0;34m,\u001b[0m \u001b[0mnum_classes\u001b[0m\u001b[0;34m,\u001b[0m \u001b[0mmodel_type\u001b[0m\u001b[0;34m=\u001b[0m\u001b[0;34m'resnet_152'\u001b[0m\u001b[0;34m)\u001b[0m\u001b[0;34m\u001b[0m\u001b[0m\n\u001b[0;32m----> 5\u001b[0;31m \u001b[0mmodel\u001b[0m\u001b[0;34m.\u001b[0m\u001b[0mload_weights\u001b[0m\u001b[0;34m(\u001b[0m\u001b[0mmodel_name\u001b[0m\u001b[0;34m+\u001b[0m\u001b[0;34m'.h5'\u001b[0m\u001b[0;34m)\u001b[0m\u001b[0;34m\u001b[0m\u001b[0m\n\u001b[0m\u001b[1;32m      6\u001b[0m \u001b[0;31m# model.load_weights('resNet152 (another copy).h5')\u001b[0m\u001b[0;34m\u001b[0m\u001b[0;34m\u001b[0m\u001b[0m\n\u001b[1;32m      7\u001b[0m \u001b[0;34m\u001b[0m\u001b[0m\n",
      "\u001b[0;31mNameError\u001b[0m: name 'model_name' is not defined"
     ]
    }
   ],
   "source": [
    "from resNet import *\n",
    "input_shape=(256,256,3)\n",
    "# The '-1' is because we add a new class for finetuning\n",
    "model = resNet(input_shape, num_classes, model_type='resnet_152')\n",
    "model.load_weights(model_name+'.h5')\n",
    "# model.load_weights('resNet152 (another copy).h5')\n",
    "\n",
    "# # FINE TUNING HERE\n",
    "# top_model = Sequential()\n",
    "# top_model.add(Dense(input_shape=model.layers[-2].output_shape, units=num_classes, rnel\n",
    "# kernel_initializer=\"he_normal\", activation=\"softmax\"))\n",
    "\n",
    "# model.layers.pop()\n",
    "# model.outputs = [model.layers[-1].output]\n",
    "# model.layers[-1].outbound_nodes = []\n",
    "\n",
    "# model = Model(inputs=model.inputs, outputs=top_model(model.outputs[0]))\n",
    "# # for layer in model.layers[:-1]:\n",
    "# #     layer.trainable = False\n",
    "\n",
    "model.summary()\n",
    "sgd = SGD(lr=0.01, decay=1e-6, momentum=0.9, nesterov=True)\n",
    "model.compile(loss='categorical_crossentropy', optimizer=sgd, metrics=['accuracy'])\n",
    "# plot_model(model, to_file='model.png')\n"
   ]
  },
  {
   "cell_type": "markdown",
   "metadata": {},
   "source": [
    "Train ResNet-152 network using \"fit_generator\""
   ]
  },
  {
   "cell_type": "code",
   "execution_count": null,
   "metadata": {
    "ExecuteTime": {
     "end_time": "2018-02-12T13:36:14.611256Z",
     "start_time": "2018-02-12T12:07:26.159215Z"
    },
    "collapsed": true
   },
   "outputs": [],
   "source": [
    "checkpoint = ModelCheckpoint(model_name+'.h5', monitor='val_loss', verbose=2, save_best_only=True, mode='auto')\n",
    "tensorboard = TensorBoard(log_dir='./', batch_size=batch_size, write_graph=True, write_images=True)\n",
    "reduce_lr = ReduceLROnPlateau(monitor='val_loss', factor=0.2,patience=3, min_lr=0.00001)\n",
    "earlystop = keras.callbacks.EarlyStopping(monitor='val_loss', min_delta=0, patience=7, verbose=2, mode='auto')\n",
    "cvslogger = keras.callbacks.CSVLogger(model_name+'.csv', separator=',', append=True)\n",
    " \n",
    "nb_epoch = 200\n",
    "callbacks = [checkpoint, reduce_lr, earlystop, cvslogger, tensorboard]\n",
    "train_steps = int(len(y_train)//batch_size)\n",
    "val_steps = int(len(y_test)//batch_size)\n",
    "history = model.fit_generator(train_gen, train_steps, epochs=nb_epoch, verbose=1, \n",
    "                    max_queue_size=2, validation_data=test_gen, \n",
    "                    validation_steps=val_steps, shuffle=True,\n",
    "                    workers=1, use_multiprocessing= False, \n",
    "                    initial_epoch=0, callbacks=callbacks)\n",
    "\n",
    "#model.fit(x=X[0:100], y=y[0:100], batch_size=64, epochs=2, verbose=1, callbacks=callbacks, \n",
    "#          validation_split=0.2, shuffle=True,initial_epoch=0)\n"
   ]
  },
  {
   "cell_type": "markdown",
   "metadata": {},
   "source": [
    "# sanity check"
   ]
  },
  {
   "cell_type": "code",
   "execution_count": 8,
   "metadata": {
    "scrolled": false
   },
   "outputs": [
    {
     "data": {
      "text/plain": [
       "[0.42737951874732971, 0.99375000000000002]"
      ]
     },
     "execution_count": 8,
     "metadata": {},
     "output_type": "execute_result"
    }
   ],
   "source": [
    "model.evaluate_generator(test_gen, steps=len(X_test)//batch_size)"
   ]
  },
  {
   "cell_type": "code",
   "execution_count": 24,
   "metadata": {
    "ExecuteTime": {
     "end_time": "2018-02-12T14:05:04.763990Z",
     "start_time": "2018-02-12T14:05:04.749105Z"
    }
   },
   "outputs": [
    {
     "name": "stdout",
     "output_type": "stream",
     "text": [
      "Creating new results directory \"/Users/arsalan/Desktop/SRP/places/results/zoomLevel_20\"\n"
     ]
    }
   ],
   "source": [
    "# test_images_dir = 'lhr/newtask'\n",
    "test_images_dir = '/Users/arsalan/Desktop/SRP/places/zoomLevel_20'\n",
    "\n",
    "# results_dir = 'results_lahore_17_with_old_wets_attempt2'\n",
    "results_dir = '/Users/arsalan/Desktop/SRP/places/results/zoomLevel_20'\n",
    "if not os.path.exists(results_dir):\n",
    "    print('Creating new results directory \"{}\"'.format(results_dir))\n",
    "    os.mkdir(results_dir)\n",
    "im_dir = os.path.join(results_dir, 'images')\n",
    "if not os.path.exists(im_dir):\n",
    "    os.mkdir(im_dir)\n",
    "\n",
    "#for file in os.listdir(test_images_dir):\n",
    "#    curr_name, curr_ext = os.path.splitext(file)\n",
    " #   print(curr_name[:-1])\n",
    " #   break\n",
    "#    new_name = curr_name[:-1]\n",
    "#    os.rename(os.path.join(test_images_dir, file), os.path.join(test_images_dir, new_name+curr_ext))\n",
    "\n",
    "########################################################\n",
    "########### RENAMING DONE IN DOWNLOAD SCRIPT ###########\n",
    "########################################################"
   ]
  },
  {
   "cell_type": "markdown",
   "metadata": {},
   "source": [
    "Testing the model and creating result files"
   ]
  },
  {
   "cell_type": "code",
   "execution_count": null,
   "metadata": {},
   "outputs": [],
   "source": []
  },
  {
   "cell_type": "code",
   "execution_count": 23,
   "metadata": {
    "ExecuteTime": {
     "end_time": "2018-02-12T14:05:48.240321Z",
     "start_time": "2018-02-12T14:05:07.149663Z"
    },
    "code_folding": [],
    "scrolled": true
   },
   "outputs": [
    {
     "name": "stderr",
     "output_type": "stream",
     "text": [
      "100%|██████████| 12/12 [00:05<00:00,  2.02it/s]\n"
     ]
    }
   ],
   "source": [
    "## print('Waiting'len(images)len(images)len(images), end='', flush=True)len(images)\n",
    "# while True:\n",
    "    \n",
    " #   if len(os.listdir(test_images_dir)) != 544244:\n",
    " #      time.sleep(10*60)\n",
    " #       print('.', end='', flush=True)\n",
    " #       continue\n",
    "\n",
    "\n",
    "# if os.path.exists(os.path.join(results_dir, 'houses.txt')) or os.path.exists(os.path.join(results_dir, 'test.csv')):\n",
    "#     raise OSError('Result files already present, this script will append to the existing data.')\n",
    "    \n",
    "# label_names = {0: 'parking', 1: 'parks', 2: 'ground', 3: 'houses', 4: 'roads', 5: 'mosque', 6: 'densetrees', 7: 'kiln', 8: 'oiltanks', 9: 'tennis', 10: 'ponds', 11: 'grass', 12: 'blackfarms', 13: 'farms', 14: 'orchard'}\n",
    "# label_names = {0: 'parking', 1: 'parks', 2: 'ground', 3: 'houses', 4: 'roads', 5: 'mosque', 6: 'densetrees', 7: 'kiln', 8: 'oiltanks', 9: 'tennis', 10: 'ponds', 11: 'grass', 12: 'blackfarms', 13: 'farms'}\n",
    "# label_names = {0: 'blackfarms', 1: 'densetrees', 2: 'farms', 3: 'grass', 4: 'ground', 5: 'houses', 6: 'kiln', 7: 'mosque', 8: 'oiltanks', 9: 'orchard', 10: 'parking', 11: 'parks', 12: 'ponds', 13: 'roads', 14: 'tennis'}\n",
    "label_names = {0: 'blackfarms', 1: 'densetrees', 2: 'farms', 3: 'grass', 4: 'ground', 5: 'houses', 6: 'kiln', 7: 'orchard', 8: 'parking', 9: 'roads'}\n",
    "y_tiles, x_tiles = [], []\n",
    "label_probs = defaultdict(list)\n",
    "top_label_probs = defaultdict(list)\n",
    "\n",
    "# # Resuming check\n",
    "# try:\n",
    "#     with open(os.path.join(results_dir, 'last_file_done.txt'), 'r') as f:\n",
    "#         loop_index = int(f.read())\n",
    "#     print('Resuming from file index \"{}\"'.format(loop_index))\n",
    "# except FileNotFoundError:\n",
    "#     loop_index = 0\n",
    "#     print('Starting fresh from file index \"0\"')\n",
    "\n",
    "filenames = os.listdir(test_images_dir)\n",
    "\n",
    "# # Missing images check\n",
    "# try:\n",
    "#     with open(os.path.join(results_dir, 'missing_images.txt'), 'r') as f:\n",
    "#         missing_images = [name.strip() for name in f.readlines()]\n",
    "#     print('Continuing with {} missing images.'.format(len(missing_images)))\n",
    "# except FileNotFoundError:\n",
    "#     missing_images = []\n",
    "#     print('Starting fresh with empty missing images list')\n",
    "\n",
    "for img_name in tqdm(filenames):\n",
    "#     extt=img_name.split('.')[1]\n",
    "    orig_name, extt = os.path.splitext(img_name)\n",
    "    if(extt == '.jpg'):\n",
    "        img_orig = cv2.imread(os.path.join(test_images_dir, img_name), cv2.IMREAD_COLOR)\n",
    "        # To catch corrupt images\n",
    "        if type(img_orig) == type(None):\n",
    "            print('Skipping an image \"{}\"'.format(img_name))\n",
    "        #    missing_images.append(img_name)\n",
    "            continue\n",
    "            \n",
    "        img = np.expand_dims(img_orig, axis=0)\n",
    "        class_name = img_name.split('.')[0]\n",
    "\n",
    "        pred = model.predict(img, verbose=0)\n",
    "    #    preds.append((pred.argmax(), pred.max(), class_name))\n",
    "        \n",
    "#         src = os.path.join(test_images_dir, img_name)\n",
    "#         dst = os.path.join(results_dir, 'images', orig_name+'_'+label_names[pred.argmax()]+extt)\n",
    "#         shutil.copyfile(src, dst)\n",
    "#         print(img_name, dst)\n",
    "        \n",
    "#         break\n",
    "\n",
    "        lng,lat = os.path.splitext(img_name)[0].split(' ')\n",
    "\n",
    "\n",
    "#         _, lat, lng, _ = os.path.splitext(img_name)[0].split('_')\n",
    "        y_tiles.append(lat)\n",
    "        x_tiles.append(lng)\n",
    "\n",
    "        # Append to individual results files on each itteration\n",
    "        for i, label in label_names.items():\n",
    "            file_path = os.path.join(results_dir, label+'.txt')\n",
    "            label_probs[label].append(pred[0, i])\n",
    "            with open(file_path, 'a') as f:\n",
    "                f.write('{} {} {}\\n'.format(lat, lng, pred[0, i]))\n",
    "#         # Append to full result file on every 1000 itterations\n",
    "#         #if loop_index % 1000 == 0:\n",
    "#         d = {'y_tile': y_tiles, 'x_tile': x_tiles}\n",
    "#         d.update(label_probs)\n",
    "#         final_df = pd.DataFrame(data=d)\n",
    "#         final_df.to_csv(os.path.join(results_dir, 'test.csv'), index=False, header=True)\n",
    "        # Resuming \n",
    "        #with open('last_file_done.txt', 'w') as f:\n",
    "         #   f.write(str(loop_index))\n",
    "        # Write names of corrupted files for later use\n",
    "        #with open(os.path.join(results_dir, 'missing.txt'), 'w') as f:\n",
    "           # for i in missing_images:\n",
    "           #     f.write('{}\\n'.format(i))\n",
    "        #loop_index += 1\n",
    "\n",
    "        top3_inds = np.argsort(pred)\n",
    "        top3_inds = np.flip(top3_inds, axis=1)\n",
    "        top3_labels = [ label_names[i] for ia in top3_inds for i in ia ]\n",
    "        top3_probs = pred[0, top3_inds]\n",
    "#     print(top3_labels)\n",
    "\n",
    "        for n in range(num_classes):\n",
    "            top_label_probs['label'+str(n+1)].append(top3_labels[n])\n",
    "            top_label_probs['prob'+str(n+1)].append(top3_probs[0, n])\n",
    "\n",
    "# Append to full result file last time\n",
    "d = {'lat': y_tiles, 'lng': x_tiles}\n",
    "d.update(label_probs)\n",
    "final_df = pd.DataFrame(data=d)\n",
    "final_df.to_csv(os.path.join(results_dir, 'test.csv'), index=False, header=True)\n",
    "# final_df\n",
    "\n",
    "# Write names of corrupted files for later use\n",
    "#with open(os.path.join(results_dir, 'missing.txt'), 'w') as f:\n",
    "#    for i in missing_images:\n",
    "#        f.write('{}\\n'.format(i))\n",
    "\n",
    "d = {'lat': y_tiles, 'lng': x_tiles}\n",
    "d.update(top_label_probs)\n",
    "sorted_df = pd.DataFrame(data=d)\n",
    "sorted_df = sorted_df[['lat', 'lng', 'label1', 'prob1', 'label2', 'prob2', 'label3', 'prob3', 'label4', 'prob4', 'label5', 'prob5', 'label6', 'prob6', 'label7', 'prob7', 'label8', 'prob8', 'label9', 'prob9', 'label10', 'prob10']]\n",
    "sorted_df.to_csv(os.path.join(results_dir, 'top_predictions.csv'), index=False, header=True)\n",
    "# sorted_df.head()\n",
    "\n",
    "# preds = sorted(preds, key=lambda x: x[0])\n",
    "# for p_class, p_prob, truth in preds:\n",
    "#     got_it = label_names[p_class] == truth\n",
    "#     print('{}\\tPrediction: {}\\tTruth: {}\\tProb: {}'.format(got_it, label_names[p_class], truth, p_prob))\n",
    "#     break"
   ]
  },
  {
   "cell_type": "markdown",
   "metadata": {
    "ExecuteTime": {
     "end_time": "2018-02-12T09:51:42.523844Z",
     "start_time": "2018-02-12T09:51:42.362690Z"
    },
    "collapsed": true
   },
   "source": [
    "import shutil\n",
    "\n",
    "for n in filenames[:200]:\n",
    "    src = os.path.join(test_images_dir, n)\n",
    "    dst = os.path.join('orchard_copy', n)\n",
    "    shutil.copyfile(src, dst)"
   ]
  },
  {
   "cell_type": "code",
   "execution_count": 11,
   "metadata": {},
   "outputs": [],
   "source": [
    "def transition_probs(start, end, filename):\n",
    "    imstart = cv2.imread(os.path.join(start, filename), cv2.IMREAD_COLOR)\n",
    "    imend = cv2.imread(os.path.join(end, filename), cv2.IMREAD_COLOR)\n",
    "#     plt.imshow(cv2.cvtColor(imstart, cv2.COLHourOR_BGHourR2RGB))\n",
    "#     plt.imshow(cv2.cvtColor(imend, cv2.COLOR_BGR2RGB))\n",
    "    \n",
    "    if imstart is None or imend is None:\n",
    "        raise OSError('Image \"{}\" not found in either \"{}\" or \"{}\"'.format(filename, start, end))\n",
    "    \n",
    "    imstart = np.expand_dims(imstart, axis=0)\n",
    "    imend = np.expand_dims(imend, axis=0)\n",
    "\n",
    "    predstart = model.predict(imstart, verbose=0)\n",
    "    predend = model.predict(imend, verbose=0)\n",
    "#     print(predstart)\n",
    "#     print(predend)\n",
    "    return predstart.T * predend"
   ]
  },
  {
   "cell_type": "markdown",
   "metadata": {},
   "source": [
    "Generate confusion matrices for each year"
   ]
  },
  {
   "cell_type": "code",
   "execution_count": null,
   "metadata": {
    "collapsed": true
   },
   "outputs": [],
   "source": [
    "    \n",
    "    \n",
    "    \n",
    "# dir11, dir13, dir17 = 'matilhr11', 'matilhr13', 'matilhr17'\n",
    "dir11, dir13, dir17 = 'alpha', 'beta', 'gamma'\n",
    "\n",
    "fig = plt.figure(figsize=(8,8))\n",
    "\n",
    "filenames = os.listdir(dir11)\n",
    "for filename in tqdm(filenames):\n",
    "    from11to13 = transition_probs(dir11, dir13, filename)\n",
    "    plot_confusion_matrix(from11to13, label_names.values(), '2011', '2013')\n",
    "    plt.savefig(os.path.join('11_13', filename), bbox_inches='tight')\n",
    "\n",
    "    plt.clf()\n",
    "    from13to17 = transition_probs(dir13, dir17, filename)\n",
    "    plot_confusion_matrix(from13to17, label_names.values(), '2013', '2017')\n",
    "    plt.savefig(os.path.join('13_17', filename), bbox_inches='tight')\n",
    "\n",
    "    plt.clf()\n",
    "    from11to17 = transition_probs(dir11, dir17, filename)\n",
    "    plot_confusion_matrix(from11to17, label_names.values(), '2011', '2017')\n",
    "    plt.savefig(os.path.join('11_17', filename), bbox_inches='tight')\n",
    "    plt.clf()\n",
    "\n"
   ]
  },
  {
   "cell_type": "markdown",
   "metadata": {},
   "source": [
    "Merge confusion matrices by year"
   ]
  },
  {
   "cell_type": "code",
   "execution_count": null,
   "metadata": {
    "collapsed": true
   },
   "outputs": [],
   "source": [
    "    \n",
    "dir11, dir13, dir17 = '11_13', '13_17', '11_17'\n",
    "out_dir = 'confusion_matrices'\n",
    "\n",
    "fig = plt.figure(figsize=(8*3,8))\n",
    "\n",
    "\n",
    "filenames = os.listdir(dir11)\n",
    "for filename in tqdm(filenames):\n",
    "    im1 = cv2.imread(os.path.join(dir11, filename), cv2.IMREAD_COLOR)\n",
    "    im1 = cv2.resize(im1, (560, 560))\n",
    "    im2 = cv2.imread(os.path.join(dir13, filename), cv2.IMREAD_COLOR)\n",
    "    im2 = cv2.resize(im2, (560, 560))\n",
    "    im3 = cv2.imread(os.path.join(dir17, filename), cv2.IMREAD_COLOR)\n",
    "    im3 = cv2.resize(im3, (560, 560))\n",
    "    \n",
    "    vis = np.concatenate((im1, im2), axis=1)\n",
    "    vis = np.concatenate((vis, im3), axis=1)\n",
    "    \n",
    "    plt.imshow(cv2.cvtColor(vis, cv2.COLOR_BGR2RGB), aspect='auto')\n",
    "    plt.axis('off')\n",
    "    plt.savefig(os.path.join(out_dir, filename), bbox_inches='tight', dpi=400)\n",
    "    plt.clf()\n",
    "    \n"
   ]
  }
 ],
 "metadata": {
  "kernelspec": {
   "display_name": "Python 2",
   "language": "python",
   "name": "python2"
  },
  "language_info": {
   "codemirror_mode": {
    "name": "ipython",
    "version": 2
   },
   "file_extension": ".py",
   "mimetype": "text/x-python",
   "name": "python",
   "nbconvert_exporter": "python",
   "pygments_lexer": "ipython2",
   "version": "2.7.15"
  },
  "notify_time": "5"
 },
 "nbformat": 4,
 "nbformat_minor": 2
}
